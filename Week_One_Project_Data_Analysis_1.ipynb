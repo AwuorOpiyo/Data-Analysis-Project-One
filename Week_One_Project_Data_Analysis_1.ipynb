{
  "nbformat": 4,
  "nbformat_minor": 0,
  "metadata": {
    "colab": {
      "provenance": []
    },
    "kernelspec": {
      "name": "python3",
      "display_name": "Python 3"
    },
    "language_info": {
      "name": "python"
    }
  },
  "cells": [
    {
      "cell_type": "code",
      "execution_count": 1,
      "metadata": {
        "id": "u84NfghnaRUB"
      },
      "outputs": [],
      "source": [
        "%load_ext sql"
      ]
    },
    {
      "cell_type": "markdown",
      "source": [
        "Create Somali programme DB"
      ],
      "metadata": {
        "id": "7dZiVpfSdP_5"
      }
    },
    {
      "cell_type": "code",
      "source": [
        "%%sql sqlite:///somali_programme.db"
      ],
      "metadata": {
        "id": "C49ui9a8dds8"
      },
      "execution_count": 2,
      "outputs": []
    },
    {
      "cell_type": "markdown",
      "source": [
        " Create Table beneficiary"
      ],
      "metadata": {
        "id": "LvGnm20ddvjN"
      }
    },
    {
      "cell_type": "code",
      "source": [
        "%%sql CREATE TABLE beneficiary_partner_data (\n",
        "partner_id INTEGER NOT NULL PRIMARY KEY,\n",
        "partner VARCHAR(30) NOT NULL,\n",
        "village VARCHAR(30) NOT NULL,\n",
        "beneficiaries INTEGER,\n",
        "beneficiary_type VARCHAR(30)\n",
        ");"
      ],
      "metadata": {
        "colab": {
          "base_uri": "https://localhost:8080/"
        },
        "id": "_q8Ri8XKd3QM",
        "outputId": "b66b7bd5-16a9-4b23-9abd-bded675ed465"
      },
      "execution_count": 3,
      "outputs": [
        {
          "output_type": "stream",
          "name": "stdout",
          "text": [
            " * sqlite:///somali_programme.db\n",
            "Done.\n"
          ]
        },
        {
          "output_type": "execute_result",
          "data": {
            "text/plain": [
              "[]"
            ]
          },
          "metadata": {},
          "execution_count": 3
        }
      ]
    },
    {
      "cell_type": "markdown",
      "source": [
        "Create Table Village"
      ],
      "metadata": {
        "id": "QkN8oTOyd9XX"
      }
    },
    {
      "cell_type": "code",
      "source": [
        "%%sql CREATE TABLE village_locations (\n",
        "    village_id INTEGER NOT NULL PRIMARY KEY,\n",
        "    village VARCHAR(30) NOT NULL,\n",
        "    latitude VARCHAR(30),\n",
        "    longitude VARCHAR(30),\n",
        "    total_population INTEGER\n",
        ");"
      ],
      "metadata": {
        "colab": {
          "base_uri": "https://localhost:8080/"
        },
        "id": "j54gum6DeAMf",
        "outputId": "329a974b-a460-4964-ac40-dc11513aca35"
      },
      "execution_count": 4,
      "outputs": [
        {
          "output_type": "stream",
          "name": "stdout",
          "text": [
            " * sqlite:///somali_programme.db\n",
            "Done.\n"
          ]
        },
        {
          "output_type": "execute_result",
          "data": {
            "text/plain": [
              "[]"
            ]
          },
          "metadata": {},
          "execution_count": 4
        }
      ]
    },
    {
      "cell_type": "markdown",
      "source": [
        "Create Jurisdiction Table"
      ],
      "metadata": {
        "id": "hke6rXGfeTCS"
      }
    },
    {
      "cell_type": "code",
      "source": [
        "%%sql\n",
        "CREATE TABLE Jurisdiction_Hierarchy (\n",
        "    jurisdiction_id INTEGER PRIMARY KEY,\n",
        "    District_Name VARCHAR(30),\n",
        "    Hierarchy_Level VARCHAR(30),\n",
        "    Region_Name VARCHAR(30)\n",
        ");\n",
        "\n"
      ],
      "metadata": {
        "colab": {
          "base_uri": "https://localhost:8080/"
        },
        "id": "mrCE8evceY05",
        "outputId": "5d527dc2-9700-4dc2-aaf0-7b8c58c49ef5"
      },
      "execution_count": 6,
      "outputs": [
        {
          "output_type": "stream",
          "name": "stdout",
          "text": [
            " * sqlite:///somali_programme.db\n",
            "Done.\n"
          ]
        },
        {
          "output_type": "execute_result",
          "data": {
            "text/plain": [
              "[]"
            ]
          },
          "metadata": {},
          "execution_count": 6
        }
      ]
    },
    {
      "cell_type": "markdown",
      "source": [
        "Insert Data Into"
      ],
      "metadata": {
        "id": "ZhE9IqEYEF-D"
      }
    },
    {
      "cell_type": "code",
      "source": [
        "%%sql\n",
        " INSERT INTO jurisdiction_hierarchy (jurisdiction_id,District_Name,Hierarchy_Level) VALUES(1,'Middle Shabelle','Region');\n",
        "INSERT INTO jurisdiction_hierarchy (jurisdiction_id,District_Name,Hierarchy_Level) VALUES(2,'Hiraan','Region');\n",
        "INSERT INTO jurisdiction_hierarchy VALUES(3,'Balcad','District','Middle Shabelle');\n",
        "INSERT INTO jurisdiction_hierarchy VALUES(4,'Jowhar','District','Middle Shabelle');\n",
        "INSERT INTO jurisdiction_hierarchy VALUES(5,'Beledweyn','District','Hiraan');\n",
        "INSERT INTO jurisdiction_hierarchy VALUES(6,'Dharkenley','Village','Beledweyn');\n",
        "INSERT INTO jurisdiction_hierarchy VALUES(7,'Bulo-Kahin','Village','Beledweyn');\n",
        "INSERT INTO jurisdiction_hierarchy VALUES(8,'Hilo Kelyo','Village','Beledweyn');\n",
        "INSERT INTO jurisdiction_hierarchy VALUES(9,'Xubow','Village','Beledweyn');\n",
        "INSERT INTO jurisdiction_hierarchy VALUES(10,'Xiintooy','Village','Beledweyn');\n",
        "INSERT INTO jurisdiction_hierarchy VALUES(11,'Dhagax Jebis','Village','Beledweyn');\n",
        "INSERT INTO jurisdiction_hierarchy VALUES(12,'Filtare','Village','Beledweyn');\n",
        "INSERT INTO jurisdiction_hierarchy VALUES(13,'Howl-Wadaag','Village','Beledweyn');\n",
        "INSERT INTO jurisdiction_hierarchy VALUES(14,'Balcad','Village','Balcad');\n",
        "INSERT INTO jurisdiction_hierarchy VALUES(15,'Mareeray','Village','Balcad');\n",
        "INSERT INTO jurisdiction_hierarchy VALUES(16,'Kulmis','Village','Balcad');\n",
        "INSERT INTO jurisdiction_hierarchy VALUES(17,'Sabuun','Village','Jowhar');\n",
        "INSERT INTO jurisdiction_hierarchy VALUES(18,'Bayaxaw','Village','Jowhar');\n"
      ],
      "metadata": {
        "colab": {
          "base_uri": "https://localhost:8080/"
        },
        "id": "H-slnu3LFY60",
        "outputId": "e63a0c95-7368-4ed8-b808-19199032b23c"
      },
      "execution_count": 8,
      "outputs": [
        {
          "output_type": "stream",
          "name": "stdout",
          "text": [
            " * sqlite:///somali_programme.db\n",
            "1 rows affected.\n",
            "1 rows affected.\n",
            "1 rows affected.\n",
            "1 rows affected.\n",
            "1 rows affected.\n",
            "1 rows affected.\n",
            "1 rows affected.\n",
            "1 rows affected.\n",
            "1 rows affected.\n",
            "1 rows affected.\n",
            "1 rows affected.\n",
            "1 rows affected.\n",
            "1 rows affected.\n",
            "1 rows affected.\n",
            "1 rows affected.\n",
            "1 rows affected.\n",
            "1 rows affected.\n",
            "1 rows affected.\n"
          ]
        },
        {
          "output_type": "execute_result",
          "data": {
            "text/plain": [
              "[]"
            ]
          },
          "metadata": {},
          "execution_count": 8
        }
      ]
    },
    {
      "cell_type": "markdown",
      "source": [
        "Insert Into Village Location"
      ],
      "metadata": {
        "id": "cX5LHrwmoXN5"
      }
    },
    {
      "cell_type": "code",
      "source": [
        "%%sql\n",
        "INSERT INTO village_locations(village_id, village,latitude,longitude, total_population) VALUES(1,'Dharkenley','4°47''35.40\"','45°12''28.80\"',12800);\n",
        "INSERT INTO village_locations(village_id, village,latitude,longitude, total_population) VALUES(2,'Bulo-Kahin','4°47''57.00\"','45°11''5.70\"',9485);\n",
        "INSERT INTO village_locations(village_id, village,latitude,longitude, total_population) VALUES(3,'Hilo Kelyo','4°47''57.00\"','45°12''58.60\"',5212);\n",
        "INSERT INTO village_locations(village_id, village,latitude,longitude, total_population) VALUES(4,'Xubow','4°46''46.77\"','45°12''7.57\"',2558);\n",
        "INSERT INTO village_locations(village_id, village,latitude,longitude, total_population) VALUES(5,'Xiintooy','4°44''14.40\"','45°13''5.00\"',3850);\n",
        "INSERT INTO village_locations(village_id, village,latitude,longitude, total_population) VALUES(6,'Dhagax Jebis','4°44''27.86\"','45°12''42.03\"',3563);\n",
        "INSERT INTO village_locations(village_id, village,latitude,longitude, total_population) VALUES(7,'Filtare','4°44''20.43\"','45°12''27.89\"',8000);\n",
        "INSERT INTO village_locations(village_id, village,latitude,longitude, total_population) VALUES(8,'Howl-Wadaag','4°43''50.00\"','45°11''58.20\"',7525);\n",
        "INSERT INTO village_locations(village_id, village,latitude,longitude, total_population) VALUES(9,'Balcad','2°21.624''','45°23.928''',1500);\n",
        "INSERT INTO village_locations(village_id, village,latitude,longitude, total_population) VALUES(10,'Mareeray','2°23.504''','45°25.200''',7500);\n",
        "INSERT INTO village_locations(village_id, village,latitude,longitude, total_population) VALUES(11,'Kulmis','2°36.761''','45°30.642''',6058);\n",
        "INSERT INTO village_locations(village_id, village,latitude,longitude, total_population) VALUES(12,'Sabuun','2°53.020''','45°32.356''',5483);\n",
        "INSERT INTO village_locations(village_id, village,latitude,longitude, total_population) VALUES(13,'Bayaxaw','2°44.768''','45°29.727''',3000);\n",
        "INSERT INTO village_locations(village_id, village,latitude,longitude, total_population) VALUES(14,'Bayaxawo','2°44.768''','45°29.926''',7560);\n"
      ],
      "metadata": {
        "id": "E34hsHUkodN9",
        "outputId": "fda1f0a6-fac6-44e9-b9e5-c35dfbe9726f",
        "colab": {
          "base_uri": "https://localhost:8080/"
        }
      },
      "execution_count": 9,
      "outputs": [
        {
          "output_type": "stream",
          "name": "stdout",
          "text": [
            " * sqlite:///somali_programme.db\n",
            "1 rows affected.\n",
            "1 rows affected.\n",
            "1 rows affected.\n",
            "1 rows affected.\n",
            "1 rows affected.\n",
            "1 rows affected.\n",
            "1 rows affected.\n",
            "1 rows affected.\n",
            "1 rows affected.\n",
            "1 rows affected.\n",
            "1 rows affected.\n",
            "1 rows affected.\n",
            "1 rows affected.\n",
            "1 rows affected.\n"
          ]
        },
        {
          "output_type": "execute_result",
          "data": {
            "text/plain": [
              "[]"
            ]
          },
          "metadata": {},
          "execution_count": 9
        }
      ]
    },
    {
      "cell_type": "markdown",
      "source": [
        " Insert Into Beneficiary Partner Data"
      ],
      "metadata": {
        "id": "DNJBkkyKoleP"
      }
    },
    {
      "cell_type": "code",
      "source": [
        "%%sql\n",
        "INSERT INTO beneficiary_partner_data(partner_id,partner,village,beneficiaries,beneficiary_type) VALUES(1,'IRC','Balcad','1450','Individuals');\n",
        "INSERT INTO beneficiary_partner_data(partner_id,partner,village,beneficiaries,beneficiary_type) VALUES(2,'NRC','Balcad','50','Households');\n",
        "INSERT INTO beneficiary_partner_data(partner_id,partner,village,beneficiaries,beneficiary_type) VALUES(3,'SCI','Balcad','1123','Individuals');\n",
        "INSERT INTO beneficiary_partner_data(partner_id,partner,village,beneficiaries,beneficiary_type) VALUES(4,'IMC','Balcad','1245','Individuals');\n",
        "INSERT INTO beneficiary_partner_data(partner_id,partner,village,beneficiaries,beneficiary_type) VALUES(5,'SCI','Mareeray','5200','Individuals');\n",
        "INSERT INTO beneficiary_partner_data(partner_id,partner,village,beneficiaries,beneficiary_type) VALUES(6,'IMC','Mareeray','70','Households');\n",
        "INSERT INTO beneficiary_partner_data(partner_id,partner,village,beneficiaries,beneficiary_type) VALUES(7,'IRC','Mareeray','2100','Individuals');\n",
        "INSERT INTO beneficiary_partner_data(partner_id,partner,village,beneficiaries,beneficiary_type) VALUES(8,'CESVI','Mareeray','1800','Individuals');\n",
        "INSERT INTO beneficiary_partner_data(partner_id,partner,village,beneficiaries,beneficiary_type) VALUES(9,'SCI','Kulmis','1340','Individuals');\n",
        "INSERT INTO beneficiary_partner_data(partner_id,partner,village,beneficiaries,beneficiary_type) VALUES(10,'IMC','Kulmis','55','Households');\n",
        "INSERT INTO beneficiary_partner_data(partner_id,partner,village,beneficiaries,beneficiary_type) VALUES(11,'SCI','Kulmis','4500','Individuals');\n",
        "INSERT INTO beneficiary_partner_data(partner_id,partner,village,beneficiaries,beneficiary_type) VALUES(12,'IMC','Kulmis','1670','Individuals');"
      ],
      "metadata": {
        "id": "SlD_HHP0ouRV",
        "outputId": "a88f5fcf-15a2-45d2-bfe0-0f62c3bb388d",
        "colab": {
          "base_uri": "https://localhost:8080/"
        }
      },
      "execution_count": 10,
      "outputs": [
        {
          "output_type": "stream",
          "name": "stdout",
          "text": [
            " * sqlite:///somali_programme.db\n",
            "1 rows affected.\n",
            "1 rows affected.\n",
            "1 rows affected.\n",
            "1 rows affected.\n",
            "1 rows affected.\n",
            "1 rows affected.\n",
            "1 rows affected.\n",
            "1 rows affected.\n",
            "1 rows affected.\n",
            "1 rows affected.\n",
            "1 rows affected.\n",
            "1 rows affected.\n"
          ]
        },
        {
          "output_type": "execute_result",
          "data": {
            "text/plain": [
              "[]"
            ]
          },
          "metadata": {},
          "execution_count": 10
        }
      ]
    },
    {
      "cell_type": "markdown",
      "source": [
        "Create A table View for District Summary"
      ],
      "metadata": {
        "id": "c2vbOMlHyVGU"
      }
    },
    {
      "cell_type": "code",
      "source": [
        "%%sql CREATE VIEW District_summary AS\n",
        "SELECT\n",
        "    District_Name,\n",
        "    Region_Name,\n",
        "    COUNT(*) AS No_of_Individual_Beneficiaries,\n",
        "    COUNT(*) / Total_District_Population AS Beneficiaries_Percentage\n",
        "FROM\n",
        "    Jurisdiction_Hierarchy\n",
        "GROUP BY\n",
        "    District_Name, Region_Name;\n"
      ],
      "metadata": {
        "id": "E3tiK8coyay_",
        "outputId": "5bb79548-59ae-437c-ee2e-57b7d0cc2559",
        "colab": {
          "base_uri": "https://localhost:8080/"
        }
      },
      "execution_count": 11,
      "outputs": [
        {
          "output_type": "stream",
          "name": "stdout",
          "text": [
            " * sqlite:///somali_programme.db\n",
            "Done.\n"
          ]
        },
        {
          "output_type": "execute_result",
          "data": {
            "text/plain": [
              "[]"
            ]
          },
          "metadata": {},
          "execution_count": 11
        }
      ]
    },
    {
      "cell_type": "markdown",
      "source": [
        " Table View for Partner Summary."
      ],
      "metadata": {
        "id": "K4Sb6FCIztGL"
      }
    },
    {
      "cell_type": "code",
      "source": [
        "%%sql CREATE VIEW Partner_Summary AS\n",
        "SELECT\n",
        "    Partner_Name,\n",
        "    COUNT(*) AS Total_Projects,\n",
        "    SUM(Project_Budget) AS Total_Budget\n",
        "FROM\n",
        "    beneficiary_partner_data\n",
        "GROUP BY\n",
        "    Partner_Name;\n"
      ],
      "metadata": {
        "id": "e-2TPWuEz2vp",
        "outputId": "c5339182-2366-4142-b288-390d669cbc65",
        "colab": {
          "base_uri": "https://localhost:8080/"
        }
      },
      "execution_count": 12,
      "outputs": [
        {
          "output_type": "stream",
          "name": "stdout",
          "text": [
            " * sqlite:///somali_programme.db\n",
            "Done.\n"
          ]
        },
        {
          "output_type": "execute_result",
          "data": {
            "text/plain": [
              "[]"
            ]
          },
          "metadata": {},
          "execution_count": 12
        }
      ]
    }
  ]
}